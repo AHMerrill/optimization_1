{
 "cells": [
  {
   "cell_type": "markdown",
   "id": "04e7f73a",
   "metadata": {},
   "source": [
    "# Part 4: Conservative min–max monthly CVaR (2019)\n",
    "\n",
    "_Replace this with your work._"
   ]
  },
  {
   "cell_type": "code",
   "execution_count": null,
   "id": "93ed1d5a",
   "metadata": {},
   "outputs": [],
   "source": [
    "# Your code starts here\n"
   ]
  }
 ],
 "metadata": {
  "kernelspec": {
   "display_name": "Python 3",
   "language": "python",
   "name": "python3"
  },
  "language_info": {
   "name": "python",
   "version": "3.x"
  }
 },
 "nbformat": 4,
 "nbformat_minor": 5
}
