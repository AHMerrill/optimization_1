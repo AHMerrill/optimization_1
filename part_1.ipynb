{
 "cells": [
  {
   "cell_type": "markdown",
   "id": "8faa1a95",
   "metadata": {},
   "source": [
    "# Part 1: Data preparation & return calculation\n",
    "\n",
    "_Replace this with your work._"
   ]
  },
  {
   "cell_type": "code",
   "execution_count": null,
   "id": "101c12de",
   "metadata": {},
   "outputs": [],
   "source": [
    "# Your code starts here\n"
   ]
  }
 ],
 "metadata": {
  "kernelspec": {
   "display_name": "Python 3",
   "language": "python",
   "name": "python3"
  },
  "language_info": {
   "name": "python",
   "version": "3.x"
  }
 },
 "nbformat": 4,
 "nbformat_minor": 5
}
