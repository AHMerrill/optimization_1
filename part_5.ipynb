{
 "cells": [
  {
   "cell_type": "markdown",
   "id": "932f76be",
   "metadata": {},
   "source": [
    "# Part 5: Monthly re-optimization (2020 rolling windows)\n",
    "\n",
    "_Replace this with your work._"
   ]
  },
  {
   "cell_type": "code",
   "execution_count": null,
   "id": "1dc16e7d",
   "metadata": {},
   "outputs": [],
   "source": [
    "# Your code starts here\n"
   ]
  }
 ],
 "metadata": {
  "kernelspec": {
   "display_name": "Python 3",
   "language": "python",
   "name": "python3"
  },
  "language_info": {
   "name": "python",
   "version": "3.x"
  }
 },
 "nbformat": 4,
 "nbformat_minor": 5
}
