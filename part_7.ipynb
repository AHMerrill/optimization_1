{
 "cells": [
  {
   "cell_type": "markdown",
   "id": "e7ec1279",
   "metadata": {},
   "source": [
    "# Part 7: Final report assembly (PDF with graphs & recommendations)\n",
    "\n",
    "_Replace this with your work._"
   ]
  },
  {
   "cell_type": "code",
   "execution_count": null,
   "id": "63fd1d43",
   "metadata": {},
   "outputs": [],
   "source": [
    "# Your code starts here\n"
   ]
  }
 ],
 "metadata": {
  "kernelspec": {
   "display_name": "Python 3",
   "language": "python",
   "name": "python3"
  },
  "language_info": {
   "name": "python",
   "version": "3.x"
  }
 },
 "nbformat": 4,
 "nbformat_minor": 5
}
